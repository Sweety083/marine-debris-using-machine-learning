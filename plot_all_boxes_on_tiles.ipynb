{
 "cells": [
  {
   "cell_type": "code",
   "execution_count": 37,
   "metadata": {},
   "outputs": [],
   "source": [
    "import matplotlib.pyplot as plt\n",
    "import matplotlib.patches as patches\n",
    "from PIL import Image\n",
    "import pandas as pd\n",
    "import os\n",
    "from glob import glob\n",
    "\n",
    "\n",
    "data_dir = '/path/to/labelmaker/data'\n",
    "csvs = glob(f'{data_dir}/tf_records/*_train.csv')\n",
    "\n",
    "dfs = [pd.read_csv(csv) for csv in csvs]"
   ]
  },
  {
   "cell_type": "code",
   "execution_count": null,
   "metadata": {
    "scrolled": true
   },
   "outputs": [],
   "source": [
    "for df, csv in zip(dfs, csvs):\n",
    "    dfg = df.groupby('filename')\n",
    "    for file, frame in dfg:\n",
    "        print(f\"First 2 entries for {file!r}\")\n",
    "        print(\"------------------------\")\n",
    "        print(frame.head(2), end=\"\\n\\n\")\n",
    "        filename_split = os.path.splitext(csv) \n",
    "        filename_zero, fileext = filename_split \n",
    "        basename = os.path.basename(filename_zero)\n",
    "        basename =basename.replace('_train','')\n",
    "        print(f'basename {basename}')\n",
    "        im = Image.open(f'{data_dir}/{basename}/tiles/{file}')\n",
    "        fig, ax = plt.subplots()\n",
    "        ax.imshow(im)\n",
    "        rects = []\n",
    "        for index, box in frame.iterrows():\n",
    "            print(f'box {box}')\n",
    "            w = box.xmax - box.xmin\n",
    "            h = box.ymax - box.ymin\n",
    "            rect = patches.Rectangle((box.xmin, box.ymin), w, h, linewidth=1, edgecolor='r', facecolor='none')\n",
    "            rects.append(rect)\n",
    "        for rect in rects:\n",
    "            ax.add_patch(rect)\n",
    "        if not os.path.exists(f'{data_dir}/{basename}/tiles_viz/'):\n",
    "            os.makedirs(f'{data_dir}/{basename}/tiles_viz/')\n",
    "        plt.savefig(f'{data_dir}/{basename}/tiles_viz/{file}')"
   ]
  }
 ],
 "metadata": {
  "kernelspec": {
   "display_name": "pybayts",
   "language": "python",
   "name": "pybayts"
  },
  "language_info": {
   "codemirror_mode": {
    "name": "ipython",
    "version": 3
   },
   "file_extension": ".py",
   "mimetype": "text/x-python",
   "name": "python",
   "nbconvert_exporter": "python",
   "pygments_lexer": "ipython3",
   "version": "3.6.8"
  }
 },
 "nbformat": 4,
 "nbformat_minor": 4
}
